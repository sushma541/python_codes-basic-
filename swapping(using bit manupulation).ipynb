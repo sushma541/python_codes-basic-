{
 "cells": [
  {
   "cell_type": "code",
   "execution_count": 1,
   "id": "021e3077-b994-41d7-98f8-5b8db2f7cdcf",
   "metadata": {},
   "outputs": [
    {
     "name": "stdout",
     "output_type": "stream",
     "text": [
      "-7\n",
      "5\n"
     ]
    }
   ],
   "source": [
    "a=5\n",
    "b=-7\n",
    "a=a^b\n",
    "b=a^b\n",
    "a=a^b\n",
    "print(a)\n",
    "print(b)"
   ]
  },
  {
   "cell_type": "code",
   "execution_count": 4,
   "id": "067a15f8-22ae-42eb-8476-0ffe469cc52e",
   "metadata": {},
   "outputs": [
    {
     "name": "stdin",
     "output_type": "stream",
     "text": [
      "enter someno 4\n",
      "enter some no -88888\n"
     ]
    },
    {
     "name": "stdout",
     "output_type": "stream",
     "text": [
      "a= -88888\n",
      "b= 4\n"
     ]
    }
   ],
   "source": [
    "a=int(input(\"enter someno\"))\n",
    "b=int(input(\"enter some no\"))\n",
    "a=a+b\n",
    "b=a-b\n",
    "a=a-b\n",
    "print(\"a=\",a)\n",
    "print(\"b=\",b)"
   ]
  },
  {
   "cell_type": "code",
   "execution_count": 5,
   "id": "94739ec5-9d14-4973-9383-79d34be05954",
   "metadata": {},
   "outputs": [
    {
     "name": "stdin",
     "output_type": "stream",
     "text": [
      "enter someno 4\n"
     ]
    },
    {
     "name": "stdout",
     "output_type": "stream",
     "text": [
      "even\n"
     ]
    }
   ],
   "source": [
    "v=int(input(\"enter someno\"))\n",
    "if v & 1 ==1:\n",
    "    print(\"odd no\")\n",
    "else:\n",
    "    print(\"even\")\n",
    "    "
   ]
  },
  {
   "cell_type": "code",
   "execution_count": null,
   "id": "b933ea30-aa06-43aa-abc5-7e408da8b8c1",
   "metadata": {},
   "outputs": [],
   "source": []
  }
 ],
 "metadata": {
  "kernelspec": {
   "display_name": "Python 3 (ipykernel)",
   "language": "python",
   "name": "python3"
  },
  "language_info": {
   "codemirror_mode": {
    "name": "ipython",
    "version": 3
   },
   "file_extension": ".py",
   "mimetype": "text/x-python",
   "name": "python",
   "nbconvert_exporter": "python",
   "pygments_lexer": "ipython3",
   "version": "3.12.1"
  }
 },
 "nbformat": 4,
 "nbformat_minor": 5
}
