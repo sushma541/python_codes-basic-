{
 "cells": [
  {
   "cell_type": "code",
   "execution_count": 1,
   "id": "c5155cd3-1298-4bc0-bc80-368989847f51",
   "metadata": {},
   "outputs": [
    {
     "name": "stdout",
     "output_type": "stream",
     "text": [
      "list: [1, 2, 3, 4, 5, 6, 7.7, 'vinay', True]\n"
     ]
    }
   ],
   "source": [
    "l=[1,2,3,4,5,6,7.7,'vinay',True]\n",
    "print(\"list:\",l)"
   ]
  },
  {
   "cell_type": "code",
   "execution_count": 3,
   "id": "d3589386-0dd5-4e92-bb73-99d9268c4315",
   "metadata": {},
   "outputs": [
    {
     "name": "stdout",
     "output_type": "stream",
     "text": [
      "[1, 2, 3, 4, 5, 6, 7.7, 'vinay', True, 'venu', 'venu', [1, 2, 3]]\n"
     ]
    }
   ],
   "source": [
    "l.append('venu')\n",
    "l.append([1,2,3])\n",
    "print(l)"
   ]
  },
  {
   "cell_type": "code",
   "execution_count": 4,
   "id": "71488d5f-26a7-4c13-9fb6-4f02fc5df87e",
   "metadata": {},
   "outputs": [
    {
     "name": "stdout",
     "output_type": "stream",
     "text": [
      "[1, 2, 3, 4, 5, 6, 7.7, 'vinay', True, 'venu', 'venu', [1, 2, 3], 1, 2, 3]\n"
     ]
    }
   ],
   "source": [
    "l.extend([1,2,3])\n",
    "print(l)"
   ]
  },
  {
   "cell_type": "code",
   "execution_count": 5,
   "id": "343282da-e547-4f67-b4c6-3ba67990e9e3",
   "metadata": {},
   "outputs": [
    {
     "name": "stdout",
     "output_type": "stream",
     "text": [
      "[1, 2, 'durga vinay', 3, 4, 5, 6, 7.7, 'vinay', True, 'venu', 'venu', [1, 2, 3], 1, 2, 3]\n"
     ]
    }
   ],
   "source": [
    "l.insert(2,\"durga vinay\")\n",
    "print(l)"
   ]
  },
  {
   "cell_type": "code",
   "execution_count": 6,
   "id": "4db8ae48-83de-4105-b8a1-393741ba465d",
   "metadata": {},
   "outputs": [
    {
     "name": "stdout",
     "output_type": "stream",
     "text": [
      "[1, 'durga vinay', 3, 4, 5, 6, 7.7, 'vinay', True, 'venu', 'venu', [1, 2, 3], 1, 2, 3]\n"
     ]
    }
   ],
   "source": [
    "l.remove(2)\n",
    "print(l)"
   ]
  },
  {
   "cell_type": "code",
   "execution_count": 7,
   "id": "3aa47718-7fb2-43ad-b808-fb2891f0688b",
   "metadata": {},
   "outputs": [
    {
     "name": "stdout",
     "output_type": "stream",
     "text": [
      "remove last element: [1, 'durga vinay', 3, 4, 5, 6, 7.7, 'vinay', True, 'venu', 'venu', [1, 2, 3], 1, 2]\n"
     ]
    }
   ],
   "source": [
    "l.pop()\n",
    "print(\"remove last element:\",l)"
   ]
  },
  {
   "cell_type": "code",
   "execution_count": 8,
   "id": "818cf3fe-22ab-4d1e-adec-d7491f6f649b",
   "metadata": {},
   "outputs": [
    {
     "name": "stdout",
     "output_type": "stream",
     "text": [
      "remove third index: [1, 'durga vinay', 3, 5, 6, 7.7, 'vinay', True, 'venu', 'venu', [1, 2, 3], 1, 2]\n"
     ]
    }
   ],
   "source": [
    "l.pop(3)\n",
    "print(\"remove third index:\",l)"
   ]
  },
  {
   "cell_type": "code",
   "execution_count": 9,
   "id": "7f934ca0-0aa9-4143-b9d4-5fd96cd10f90",
   "metadata": {},
   "outputs": [
    {
     "name": "stdout",
     "output_type": "stream",
     "text": [
      "[]\n"
     ]
    }
   ],
   "source": [
    "l.clear()\n",
    "print(l)"
   ]
  },
  {
   "cell_type": "code",
   "execution_count": 14,
   "id": "16acf2e9-f6fb-47c0-95cd-b600defe87b4",
   "metadata": {},
   "outputs": [
    {
     "name": "stdout",
     "output_type": "stream",
     "text": [
      "index of True: 3\n",
      "index of True: 0\n"
     ]
    }
   ],
   "source": [
    "l1=[1,2,3,4,5,6,True,False,'vinay']\n",
    "print(\"index of True:\",l1.index(4))\n",
    "print(\"index of True:\",l1.index(True))"
   ]
  },
  {
   "cell_type": "code",
   "execution_count": 15,
   "id": "b7d2702d-a10c-4348-8e3f-3330bdbba6c7",
   "metadata": {},
   "outputs": [
    {
     "name": "stdin",
     "output_type": "stream",
     "text": [
      " 1 2 3 4 5 6 7\n"
     ]
    },
    {
     "name": "stdout",
     "output_type": "stream",
     "text": [
      "[1, 2, 3, 4, 5, 6, 7]\n"
     ]
    }
   ],
   "source": [
    "l=list(map(int,input().split()))\n",
    "print(l)"
   ]
  },
  {
   "cell_type": "code",
   "execution_count": 17,
   "id": "79c9a71f-3d9b-45c9-aa9d-b258f46f5b55",
   "metadata": {},
   "outputs": [
    {
     "name": "stdout",
     "output_type": "stream",
     "text": [
      "5\n"
     ]
    }
   ],
   "source": [
    "l2=[1,11,1,1,1,1,2,3,4,56]\n",
    "print(l2.count(1))"
   ]
  },
  {
   "cell_type": "code",
   "execution_count": 18,
   "id": "225e7bbb-abf8-4b75-86fd-3c6e2b518f7c",
   "metadata": {},
   "outputs": [
    {
     "name": "stdout",
     "output_type": "stream",
     "text": [
      "[[1, 2, 3, 4, 5, 6, 7], 2, 3, 4, 5, 7]\n",
      "[[1, 2, 3, 4, 5, 6, 7], 2, 3, 56, 5, 7]\n"
     ]
    }
   ],
   "source": [
    "l1=[l,2,3,4,5,7]\n",
    "l2=l1.copy()\n",
    "l2[3]=56\n",
    "print(l1)\n",
    "print(l2)"
   ]
  },
  {
   "cell_type": "code",
   "execution_count": 22,
   "id": "c1969e0f-e3b6-4cca-aa48-949f8dc4384d",
   "metadata": {},
   "outputs": [
    {
     "name": "stdout",
     "output_type": "stream",
     "text": [
      "sum 10\n",
      "max 4\n",
      "min 1\n"
     ]
    }
   ],
   "source": [
    "l5=[1,2,3,4]\n",
    "k=sum(l5)\n",
    "print(\"sum\",k)\n",
    "n=max(l5)\n",
    "m=min(l5)\n",
    "print(\"max\",n)\n",
    "print(\"min\",m)"
   ]
  },
  {
   "cell_type": "code",
   "execution_count": 25,
   "id": "c1e29ed8-7ba9-4dde-95ef-69a78fd2f9f5",
   "metadata": {},
   "outputs": [
    {
     "name": "stdout",
     "output_type": "stream",
     "text": [
      "True\n",
      "True\n",
      "len 4\n"
     ]
    }
   ],
   "source": [
    "e=all(l5)\n",
    "print(e)\n",
    "r=any(l5)\n",
    "print(r)\n",
    "c=len(l5)\n",
    "print(\"len\",c)"
   ]
  },
  {
   "cell_type": "code",
   "execution_count": 27,
   "id": "59bcc4ac-df13-4fff-ad9d-bfc17b4682f2",
   "metadata": {},
   "outputs": [
    {
     "name": "stdin",
     "output_type": "stream",
     "text": [
      " 1 2 3 4\n",
      " 1 6 7 3\n"
     ]
    },
    {
     "name": "stdout",
     "output_type": "stream",
     "text": [
      "sorted [1, 1, 2, 3, 3, 4, 6, 7]\n"
     ]
    }
   ],
   "source": [
    "list1=list(map(int,input().split()))\n",
    "list2=list(map(int,input().split()))\n",
    "li3=list1+list2\n",
    "li3.sort()\n",
    "print(\"sorted\",li3)"
   ]
  },
  {
   "cell_type": "code",
   "execution_count": 34,
   "id": "61c3baa1-e969-4c6d-a9f2-f13a693aeb42",
   "metadata": {},
   "outputs": [
    {
     "name": "stdin",
     "output_type": "stream",
     "text": [
      " 1 12 123\n"
     ]
    },
    {
     "ename": "TypeError",
     "evalue": "'list' object is not callable",
     "output_type": "error",
     "traceback": [
      "\u001b[1;31m---------------------------------------------------------------------------\u001b[0m",
      "\u001b[1;31mTypeError\u001b[0m                                 Traceback (most recent call last)",
      "Cell \u001b[1;32mIn[34], line 1\u001b[0m\n\u001b[1;32m----> 1\u001b[0m \u001b[38;5;28mlist\u001b[39m\u001b[38;5;241m=\u001b[39m\u001b[38;5;28;43mlist\u001b[39;49m\u001b[43m(\u001b[49m\u001b[38;5;28;43mmap\u001b[39;49m\u001b[43m(\u001b[49m\u001b[38;5;28;43mstr\u001b[39;49m\u001b[43m,\u001b[49m\u001b[38;5;28;43minput\u001b[39;49m\u001b[43m(\u001b[49m\u001b[43m)\u001b[49m\u001b[38;5;241;43m.\u001b[39;49m\u001b[43msplit\u001b[49m\u001b[43m(\u001b[49m\u001b[43m)\u001b[49m\u001b[43m)\u001b[49m\u001b[43m)\u001b[49m\n\u001b[0;32m      2\u001b[0m \u001b[38;5;28;01mfor\u001b[39;00m i \u001b[38;5;129;01min\u001b[39;00m \u001b[38;5;28mrange\u001b[39m(\u001b[38;5;28mlen\u001b[39m(\u001b[38;5;28mlist\u001b[39m)):\n\u001b[0;32m      3\u001b[0m     len1\u001b[38;5;241m=\u001b[39m\u001b[38;5;28mlen\u001b[39m(i)\n",
      "\u001b[1;31mTypeError\u001b[0m: 'list' object is not callable"
     ]
    }
   ],
   "source": [
    "list=list(map(str,input().split()))\n",
    "for i in range(len(list)):\n",
    "    len1=len(i)\n",
    "print(len1)\n"
   ]
  },
  {
   "cell_type": "code",
   "execution_count": null,
   "id": "3ead1f40-2748-4318-a799-9129879da3db",
   "metadata": {},
   "outputs": [],
   "source": []
  }
 ],
 "metadata": {
  "kernelspec": {
   "display_name": "Python 3 (ipykernel)",
   "language": "python",
   "name": "python3"
  },
  "language_info": {
   "codemirror_mode": {
    "name": "ipython",
    "version": 3
   },
   "file_extension": ".py",
   "mimetype": "text/x-python",
   "name": "python",
   "nbconvert_exporter": "python",
   "pygments_lexer": "ipython3",
   "version": "3.12.2"
  }
 },
 "nbformat": 4,
 "nbformat_minor": 5
}
